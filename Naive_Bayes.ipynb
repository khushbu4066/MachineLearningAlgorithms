{
  "cells": [
    {
      "cell_type": "markdown",
      "metadata": {
        "id": "view-in-github",
        "colab_type": "text"
      },
      "source": [
        "<a href=\"https://colab.research.google.com/github/khushbu4066/MachineLearningAlgorithms/blob/main/Naive_Bayes.ipynb\" target=\"_parent\"><img src=\"https://colab.research.google.com/assets/colab-badge.svg\" alt=\"Open In Colab\"/></a>"
      ]
    },
    {
      "cell_type": "code",
      "execution_count": null,
      "metadata": {
        "id": "8yU0WuNAqwZK"
      },
      "outputs": [],
      "source": [
        "# Code for Naive Bayes Classifier Algorithm\n",
        "\n",
        "import pandas as pd"
      ]
    },
    {
      "cell_type": "code",
      "execution_count": null,
      "metadata": {
        "id": "ggvE7k7Iqy2p"
      },
      "outputs": [],
      "source": [
        "# Create a DataFrame with the provided dataset\n",
        "data = {\n",
        "    'Id': range(1, 17),\n",
        "    'Attack Type': ['Malware', 'Phishing', 'DDoS', 'Ransomware', 'Intrusion', 'Malware', 'Phishing', 'DDoS', 'Ransomware', 'Intrusion', 'Malware', 'Phishing', 'DDoS', 'Ransomware', 'Intrusion', 'Phishing'],\n",
        "    'Firewall Status': ['Blocked', 'Allowed', 'Blocked', 'Blocked', 'Blocked', 'Blocked', 'Allowed', 'Blocked', 'Blocked', 'Blocked', 'Blocked', 'Allowed', 'Blocked', 'Blocked', 'Blocked', 'Allowed'],\n",
        "    'Malware Detected': ['Yes', 'No', 'No', 'Yes', 'No', 'Yes', 'No', 'No', 'Yes', 'No', 'Yes', 'No', 'No', 'Yes', 'No', 'No'],\n",
        "    'Data Exfiltrated': ['No', 'Yes', 'No', 'No', 'No', 'Yes', 'No', 'No', 'No', 'No', 'Yes', 'Yes', 'No', 'Yes', 'No', 'No']\n",
        "}"
      ]
    },
    {
      "cell_type": "code",
      "execution_count": null,
      "metadata": {
        "id": "EBNZyqMOq62K"
      },
      "outputs": [],
      "source": [
        "df = pd.DataFrame(data)"
      ]
    },
    {
      "cell_type": "code",
      "execution_count": null,
      "metadata": {
        "id": "90IoleA1rAof"
      },
      "outputs": [],
      "source": [
        "# Define the attributes of the unknown data point\n",
        "unknown_data = {\n",
        "    'Attack Type': 'Malware',\n",
        "    'Firewall Status': 'Blocked',\n",
        "    'Malware Detected': 'No',\n",
        "    'Data Exfiltrated': None  # We need to predict this value\n",
        "}"
      ]
    },
    {
      "cell_type": "code",
      "execution_count": null,
      "metadata": {
        "id": "5s0c3h7urHN-"
      },
      "outputs": [],
      "source": [
        "# Calculate the prior probabilities\n",
        "total_count = len(df)\n",
        "p_data_exfiltrated_yes = df[df['Data Exfiltrated'] == 'Yes']['Data Exfiltrated'].count() / total_count\n",
        "p_data_exfiltrated_no = df[df['Data Exfiltrated'] == 'No']['Data Exfiltrated'].count() / total_count\n",
        "\n"
      ]
    },
    {
      "cell_type": "code",
      "execution_count": null,
      "metadata": {
        "colab": {
          "base_uri": "https://localhost:8080/"
        },
        "id": "RPy_7Xg_TYdP",
        "outputId": "030164b5-2db2-414b-85ce-0da0b09f5759"
      },
      "outputs": [
        {
          "output_type": "stream",
          "name": "stdout",
          "text": [
            "0.3125\n"
          ]
        }
      ],
      "source": [
        "print(p_data_exfiltrated_yes)"
      ]
    },
    {
      "cell_type": "code",
      "execution_count": null,
      "metadata": {
        "colab": {
          "base_uri": "https://localhost:8080/"
        },
        "id": "P8qOU3gqTbdb",
        "outputId": "1a6f44c3-1af9-4edd-b027-4fe2e59bc0a3"
      },
      "outputs": [
        {
          "output_type": "stream",
          "name": "stdout",
          "text": [
            "0.6875\n"
          ]
        }
      ],
      "source": [
        "print(p_data_exfiltrated_no)"
      ]
    },
    {
      "cell_type": "code",
      "execution_count": null,
      "metadata": {
        "id": "b_y0bh15qZEZ"
      },
      "outputs": [],
      "source": [
        "# Calculate the likelihoods for each attribute\n",
        "def calculate_likelihood(attribute, value, data_exfiltrated):\n",
        "    count = df[(df[attribute] == value) & (df['Data Exfiltrated'] == data_exfiltrated)][attribute].count()\n",
        "    total_data_exfiltrated = df[df['Data Exfiltrated'] == data_exfiltrated]['Data Exfiltrated'].count()\n",
        "    return count / total_data_exfiltrated\n",
        "\n",
        "\n"
      ]
    },
    {
      "cell_type": "code",
      "execution_count": null,
      "metadata": {
        "colab": {
          "base_uri": "https://localhost:8080/"
        },
        "id": "zMIlSQ8MrU9d",
        "outputId": "3a30f4c7-fe35-4923-9c06-c6a2cd6db762"
      },
      "outputs": [
        {
          "output_type": "stream",
          "name": "stdout",
          "text": [
            "Predicted Data Exfiltrated: No\n"
          ]
        }
      ],
      "source": [
        "p_attack_type_malware_yes = calculate_likelihood('Attack Type', unknown_data['Attack Type'], 'Yes')\n",
        "p_firewall_status_blocked_yes = calculate_likelihood('Firewall Status', unknown_data['Firewall Status'], 'Yes')\n",
        "p_malware_detected_no_yes = calculate_likelihood('Malware Detected', unknown_data['Malware Detected'], 'Yes')\n",
        "\n",
        "p_attack_type_malware_no = calculate_likelihood('Attack Type', unknown_data['Attack Type'], 'No')\n",
        "p_firewall_status_blocked_no = calculate_likelihood('Firewall Status', unknown_data['Firewall Status'], 'No')\n",
        "p_malware_detected_no_no = calculate_likelihood('Malware Detected', unknown_data['Malware Detected'], 'No')\n",
        "\n",
        "# Calculate the posterior probabilities\n",
        "p_yes = p_data_exfiltrated_yes * p_attack_type_malware_yes * p_firewall_status_blocked_yes * p_malware_detected_no_yes\n",
        "p_no = p_data_exfiltrated_no * p_attack_type_malware_no * p_firewall_status_blocked_no * p_malware_detected_no_no\n",
        "\n",
        "# Make a prediction based on the posterior probabilities\n",
        "predicted_data_exfiltrated = 'Yes' if p_yes > p_no else 'No'\n",
        "\n",
        "# Print the prediction\n",
        "print(f\"Predicted Data Exfiltrated: {predicted_data_exfiltrated}\")"
      ]
    }
  ],
  "metadata": {
    "colab": {
      "provenance": [],
      "include_colab_link": true
    },
    "kernelspec": {
      "display_name": "Python 3",
      "name": "python3"
    },
    "language_info": {
      "name": "python"
    }
  },
  "nbformat": 4,
  "nbformat_minor": 0
}