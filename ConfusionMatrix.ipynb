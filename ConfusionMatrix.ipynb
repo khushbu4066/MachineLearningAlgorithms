{
  "nbformat": 4,
  "nbformat_minor": 0,
  "metadata": {
    "colab": {
      "provenance": [],
      "authorship_tag": "ABX9TyNGg9W4buvct8wRKi3Y+syL",
      "include_colab_link": true
    },
    "kernelspec": {
      "name": "python3",
      "display_name": "Python 3"
    },
    "language_info": {
      "name": "python"
    }
  },
  "cells": [
    {
      "cell_type": "markdown",
      "metadata": {
        "id": "view-in-github",
        "colab_type": "text"
      },
      "source": [
        "<a href=\"https://colab.research.google.com/github/khushbu4066/MachineLearningAlgorithms/blob/main/ConfusionMatrix.ipynb\" target=\"_parent\"><img src=\"https://colab.research.google.com/assets/colab-badge.svg\" alt=\"Open In Colab\"/></a>"
      ]
    },
    {
      "cell_type": "code",
      "source": [
        "import pandas as pd\n",
        "from sklearn.model_selection import train_test_split\n",
        "from sklearn.neighbors import KNeighborsClassifier\n",
        "from sklearn.metrics import accuracy_score\n",
        "\n",
        "#Create a Dataframe\n",
        "data = pd.DataFrame ({\n",
        "    'ID': [1,2,3,4,5],\n",
        "    'Protocol_Duration': [0.5, 0.2, 0.1, 0.6, 0.4],\n",
        "    'Packet_Sent': [0.3, 0.6, 0.2, 0.1,0.7],\n",
        "    'Packet_Received': [0.7, 0.4, 0.5, 0.8, 0.6 ],\n",
        "    'Bytes_Transferred': [0.8, 0.9, 0.7, 0.3, 0.2],\n",
        "    'Intrusion': ['Normal', 'Normal', 'Intrusion','Normal', 'Intrusion']\n",
        "})\n",
        "\n",
        "# Seperate features (X) and labels (Y)\n",
        "X = data[['Protocol_Duration', 'Packet_Sent', 'Packet_Received', 'Bytes_Transferred']]\n",
        "Y = data['Intrusion']\n",
        "\n",
        "# Split the data into training and testing data\n",
        "X_train, X_test, Y_train, Y_test = train_test_split(X, Y, test_size=0.2)\n",
        "\n",
        "print(X_train)\n",
        "print(X_test)\n",
        "knn = KNeighborsClassifier(n_neighbors=1)\n",
        "\n",
        "# Train the KNN Classifier on the training data\n",
        "knn.fit(X_train, Y_train)\n",
        "\n",
        "# Make predictions on the testing data\n",
        "Y_pred = knn.predict(X_test)\n",
        "\n",
        "# Calculate and print the accuracy of the model\n",
        "accuracy = accuracy_score(Y_test, Y_pred)\n",
        "print(\"Accuracy:\" , accuracy)\n"
      ],
      "metadata": {
        "colab": {
          "base_uri": "https://localhost:8080/"
        },
        "id": "obUkY646VtHV",
        "outputId": "ed42b66e-c490-4bac-c20c-106342ef245c"
      },
      "execution_count": 18,
      "outputs": [
        {
          "output_type": "stream",
          "name": "stdout",
          "text": [
            "   Protocol_Duration  Packet_Sent  Packet_Received  Bytes_Transferred\n",
            "1                0.2          0.6              0.4                0.9\n",
            "0                0.5          0.3              0.7                0.8\n",
            "4                0.4          0.7              0.6                0.2\n",
            "2                0.1          0.2              0.5                0.7\n",
            "   Protocol_Duration  Packet_Sent  Packet_Received  Bytes_Transferred\n",
            "3                0.6          0.1              0.8                0.3\n",
            "Accuracy: 1.0\n"
          ]
        }
      ]
    }
  ]
}