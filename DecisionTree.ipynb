{
  "cells": [
    {
      "cell_type": "markdown",
      "metadata": {
        "id": "view-in-github",
        "colab_type": "text"
      },
      "source": [
        "<a href=\"https://colab.research.google.com/github/khushbu4066/MachineLearningAlgorithms/blob/main/DecisionTree.ipynb\" target=\"_parent\"><img src=\"https://colab.research.google.com/assets/colab-badge.svg\" alt=\"Open In Colab\"/></a>"
      ]
    },
    {
      "cell_type": "code",
      "execution_count": null,
      "metadata": {
        "colab": {
          "base_uri": "https://localhost:8080/"
        },
        "id": "zM_E3_043Sv0",
        "outputId": "648c88b7-790c-444a-ea89-84d38848e880"
      },
      "outputs": [
        {
          "name": "stdout",
          "output_type": "stream",
          "text": [
            "Entropy of Data Exfiltrated: -0.625\n",
            "Information Gain for each attribute: {'Attack Type_DDoS': 0.028846153846153744, 'Attack Type_Intrusion': 0.028846153846153744, 'Attack Type_Malware': 0.08012820512820507, 'Attack Type_Phishing': 0.0, 'Attack Type_Ransomware': 0.0032051282051281937, 'Firewall Status_Allowed': 0.0, 'Firewall Status_Blocked': 0.0, 'Malware Detected_No': 0.07500000000000007, 'Malware Detected_Yes': 0.07500000000000007}\n",
            "Attack Type_DDoS: 0.028846153846153744\n",
            "Attack Type_Intrusion: 0.028846153846153744\n",
            "Attack Type_Malware: 0.08012820512820507\n",
            "Attack Type_Phishing: 0.0\n",
            "Attack Type_Ransomware: 0.0032051282051281937\n",
            "Firewall Status_Allowed: 0.0\n",
            "Firewall Status_Blocked: 0.0\n",
            "Malware Detected_No: 0.07500000000000007\n",
            "Malware Detected_Yes: 0.07500000000000007\n"
          ]
        }
      ],
      "source": [
        "# Import necessary libraries\n",
        "from sklearn.tree import DecisionTreeClassifier, export_graphviz\n",
        "import pandas as pd\n",
        "# Create a DataFrame from your dataset\n",
        "data = {\n",
        "    \"Attack Type\": [\"Malware\", \"Phishing\", \"DDoS\", \"Ransomware\", \"Intrusion\", \"Malware\", \"Phishing\", \"DDoS\", \"Ransomware\", \"Intrusion\", \"Malware\", \"Phishing\", \"DDoS\", \"Ransomware\", \"Intrusion\", \"Phishing\"],\n",
        "    \"Firewall Status\": [\"Blocked\", \"Allowed\", \"Blocked\", \"Blocked\", \"Blocked\", \"Blocked\", \"Allowed\", \"Blocked\", \"Blocked\", \"Blocked\", \"Blocked\", \"Allowed\", \"Blocked\", \"Blocked\", \"Blocked\", \"Allowed\"],\n",
        "    \"Malware Detected\": [\"Yes\", \"No\", \"No\", \"Yes\", \"No\", \"Yes\", \"No\", \"No\", \"Yes\", \"No\", \"Yes\", \"No\", \"No\", \"Yes\", \"No\", \"No\"],\n",
        "    \"Data Exfiltrated\": [\"No\", \"Yes\", \"No\", \"No\", \"No\", \"Yes\", \"No\", \"No\", \"No\", \"No\", \"Yes\", \"No\", \"No\", \"Yes\", \"No\", \"No\"]\n",
        "}\n",
        "\n",
        "df = pd.DataFrame(data)\n",
        "\n",
        "# Encode categorical attributes to numerical values\n",
        "df_encoded = pd.get_dummies(df, columns=[\"Attack Type\", \"Firewall Status\", \"Malware Detected\"])\n",
        "\n",
        "# Separate features and target variable\n",
        "X = df_encoded.drop(columns=[\"Data Exfiltrated\"])\n",
        "y = df_encoded[\"Data Exfiltrated\"]\n",
        "\n",
        "# Create a Decision Tree Classifier\n",
        "clf = DecisionTreeClassifier(criterion=\"entropy\")\n",
        "\n",
        "# Fit the classifier on the data\n",
        "clf.fit(X, y)\n",
        "\n",
        "# Calculate the entropy of the target variable\n",
        "entropy = -sum([(sum(y == c) / len(y)) * (sum(y == c) / len(y)) for c in set(y)])\n",
        "\n",
        "# Calculate Information Gain for each attribute\n",
        "information_gain = {}\n",
        "for feature in X.columns:\n",
        "    split_entropy = 0\n",
        "    for value in set(X[feature]):\n",
        "        subset = y[X[feature] == value]\n",
        "        split_entropy += (len(subset) / len(y)) * -sum([(sum(subset == c) / len(subset)) * (sum(subset == c) / len(subset)) for c in set(subset)])\n",
        "    information_gain[feature] = entropy - split_entropy\n",
        "\n",
        "# Print entropy and information gain\n",
        "print(\"Entropy of Data Exfiltrated:\", entropy)\n",
        "print(\"Information Gain for each attribute:\", information_gain )\n",
        "for feature, gain in information_gain.items():\n",
        "    print(f\"{feature}: {gain}\")\n",
        "\n",
        "# Visualize the Decision Tree\n",
        "dot_data = export_graphviz(clf, out_file=None,\n",
        "                            feature_names=X.columns,\n",
        "                            class_names=[\"No\", \"Yes\"],\n",
        "                            filled=True, rounded=True,\n",
        "                            special_characters=True)\n",
        "# graph = graphviz.Source(dot_data)\n",
        "# graph.render(\"decision_tree\")  # This will save the decision tree to a file named \"decision_tree.pdf\"\n",
        "# # You can also display the decision tree in Jupyter Notebook\n",
        "# # graph"
      ]
    },
    {
      "cell_type": "code",
      "execution_count": null,
      "metadata": {
        "colab": {
          "base_uri": "https://localhost:8080/"
        },
        "id": "VrSCRGDDZVLd",
        "outputId": "f83d6429-2099-4ce3-82f8-50401ea7e6d9"
      },
      "outputs": [
        {
          "name": "stdout",
          "output_type": "stream",
          "text": [
            "Entropy of Data Exfiltrated: 0.9182958340544896\n",
            "Information Gain for each attribute: {'Attack Type_DDoS': 0.1344008287335673, 'Attack Type_Intrusion': 0.1344008287335673, 'Attack Type_Malware': 0.08561416767628538, 'Attack Type_Phishing': 0.08561416767628538, 'Attack Type_Ransomware': 0.0, 'Firewall Status_Allowed': 0.08561416767628538, 'Firewall Status_Blocked': 0.08561416767628538, 'Malware Detected_No': 0.0597731301493174, 'Malware Detected_Yes': 0.0597731301493174}\n",
            "Attack Type_DDoS: 0.1344008287335673\n",
            "Attack Type_Intrusion: 0.1344008287335673\n",
            "Attack Type_Malware: 0.08561416767628538\n",
            "Attack Type_Phishing: 0.08561416767628538\n",
            "Attack Type_Ransomware: 0.0\n",
            "Firewall Status_Allowed: 0.08561416767628538\n",
            "Firewall Status_Blocked: 0.08561416767628538\n",
            "Malware Detected_No: 0.0597731301493174\n",
            "Malware Detected_Yes: 0.0597731301493174\n"
          ]
        }
      ],
      "source": [
        "import pandas as pd\n",
        "from sklearn.tree import DecisionTreeClassifier, export_graphviz\n",
        "import graphviz\n",
        "import numpy as np  # Import numpy for np.log2\n",
        "\n",
        "# Read data from a CSV file\n",
        "df = pd.read_csv('Dataset1.csv')\n",
        "\n",
        "# Encode categorical attributes to numerical values\n",
        "df_encoded = pd.get_dummies(df, columns=[\"Attack Type\", \"Firewall Status\", \"Malware Detected\"])\n",
        "\n",
        "# Separate features and target variable\n",
        "X = df_encoded.drop(columns=[\"Data Exfiltrated\"])\n",
        "y = df_encoded[\"Data Exfiltrated\"]\n",
        "\n",
        "# Create a Decision Tree Classifier\n",
        "clf = DecisionTreeClassifier(criterion=\"entropy\")\n",
        "\n",
        "# Fit the classifier on the data\n",
        "clf.fit(X, y)\n",
        "\n",
        "# Calculate the entropy of the target variable\n",
        "entropy = -sum([(sum(y == c) / len(y)) * np.log2(sum(y == c) / len(y)) for c in set(y)])\n",
        "\n",
        "# Calculate Information Gain for each attribute\n",
        "information_gain = {}\n",
        "for feature in X.columns:\n",
        "    split_entropy = 0\n",
        "    for value in set(X[feature]):\n",
        "        subset = y[X[feature] == value]\n",
        "        split_entropy += (len(subset) / len(y)) * -sum([(sum(subset == c) / len(subset)) * np.log2(sum(subset == c) / len(subset)) for c in set(subset)])\n",
        "    information_gain[feature] = entropy - split_entropy\n",
        "\n",
        "# Print entropy and information gain\n",
        "print(\"Entropy of Data Exfiltrated:\", entropy)\n",
        "print(\"Information Gain for each attribute:\",information_gain )\n",
        "for feature, gain in information_gain.items():\n",
        "    print(f\"{feature}: {gain}\")\n",
        "\n",
        "# Visualize the Decision Tree\n",
        "dot_data = export_graphviz(clf, out_file=None,\n",
        "                            feature_names=X.columns,\n",
        "                            class_names=[\"No\", \"Yes\"],  # Specify the class names correctly\n",
        "                            filled=True, rounded=True,\n",
        "                            special_characters=True)\n",
        "\n"
      ]
    },
    {
      "cell_type": "code",
      "execution_count": null,
      "metadata": {
        "colab": {
          "base_uri": "https://localhost:8080/",
          "height": 35
        },
        "id": "Xy3_id5Ie8Du",
        "outputId": "22cf18bd-7178-4a3d-d3a1-fa297c867790"
      },
      "outputs": [
        {
          "data": {
            "application/vnd.google.colaboratory.intrinsic+json": {
              "type": "string"
            },
            "text/plain": [
              "'decision_tree.pdf'"
            ]
          },
          "execution_count": 12,
          "metadata": {},
          "output_type": "execute_result"
        }
      ],
      "source": [
        "graph = graphviz.Source(dot_data)\n",
        "graph.render(\"decision_tree\")  # This will save the decision tree to a file named \"decision_tree.pdf\""
      ]
    },
    {
      "cell_type": "code",
      "execution_count": null,
      "metadata": {
        "colab": {
          "base_uri": "https://localhost:8080/"
        },
        "id": "178D6BahfEg6",
        "outputId": "eab9e810-de87-4272-8b15-f2d44feb87cf"
      },
      "outputs": [
        {
          "name": "stdout",
          "output_type": "stream",
          "text": [
            "Entropy of Data Exfiltrated: -0.0\n",
            "Information Gain for each attribute: {'Attack Type_DDoS': -0.0, 'Firewall Status_Blocked': -0.0, 'Malware Detected_No': -0.0}\n",
            "Attack Type_DDoS: -0.0\n",
            "Firewall Status_Blocked: -0.0\n",
            "Malware Detected_No: -0.0\n"
          ]
        }
      ],
      "source": [
        "import pandas as pd\n",
        "from sklearn.tree import DecisionTreeClassifier, export_graphviz\n",
        "import graphviz\n",
        "import numpy as np  # Import numpy for np.log2\n",
        "\n",
        "# Read data from a CSV file\n",
        "df = pd.read_csv('DDos1.csv')\n",
        "\n",
        "# Encode categorical attributes to numerical values\n",
        "df_encoded = pd.get_dummies(df, columns=[\"Attack Type\", \"Firewall Status\", \"Malware Detected\"])\n",
        "\n",
        "# Separate features and target variable\n",
        "X = df_encoded.drop(columns=[\"Data Exfiltrated\"])\n",
        "y = df_encoded[\"Data Exfiltrated\"]\n",
        "\n",
        "# Create a Decision Tree Classifier\n",
        "clf = DecisionTreeClassifier(criterion=\"entropy\")\n",
        "\n",
        "# Fit the classifier on the data\n",
        "clf.fit(X, y)\n",
        "\n",
        "# Calculate the entropy of the target variable\n",
        "entropy = -sum([(sum(y == c) / len(y)) * np.log2(sum(y == c) / len(y)) for c in set(y)])\n",
        "\n",
        "# Calculate Information Gain for each attribute\n",
        "information_gain = {}\n",
        "for feature in X.columns:\n",
        "    split_entropy = 0\n",
        "    for value in set(X[feature]):\n",
        "        subset = y[X[feature] == value]\n",
        "        split_entropy += (len(subset) / len(y)) * -sum([(sum(subset == c) / len(subset)) * np.log2(sum(subset == c) / len(subset)) for c in set(subset)])\n",
        "    information_gain[feature] = entropy - split_entropy\n",
        "\n",
        "# Print entropy and information gain\n",
        "print(\"Entropy of Data Exfiltrated:\", entropy)\n",
        "print(\"Information Gain for each attribute:\",information_gain )\n",
        "for feature, gain in information_gain.items():\n",
        "    print(f\"{feature}: {gain}\")\n",
        "\n",
        "# Visualize the Decision Tree\n",
        "dot_data = export_graphviz(clf, out_file=None,\n",
        "                            feature_names=X.columns,\n",
        "                            class_names=[\"No\", \"Yes\"],  # Specify the class names correctly\n",
        "                            filled=True, rounded=True,\n",
        "                            special_characters=True)\n",
        "\n"
      ]
    },
    {
      "cell_type": "code",
      "execution_count": null,
      "metadata": {
        "colab": {
          "base_uri": "https://localhost:8080/"
        },
        "id": "qx8_6moufLKJ",
        "outputId": "d6ba0ba5-1b60-460e-c1a1-82cf217f5f92"
      },
      "outputs": [
        {
          "name": "stdout",
          "output_type": "stream",
          "text": [
            "Entropy of Data Exfiltrated: -0.0\n",
            "Information Gain for each attribute: {'Attack Type_Intrusion': -0.0, 'Firewall Status_Blocked': -0.0, 'Malware Detected_No': -0.0}\n",
            "Attack Type_Intrusion: -0.0\n",
            "Firewall Status_Blocked: -0.0\n",
            "Malware Detected_No: -0.0\n"
          ]
        }
      ],
      "source": [
        "import pandas as pd\n",
        "from sklearn.tree import DecisionTreeClassifier, export_graphviz\n",
        "import graphviz\n",
        "import numpy as np  # Import numpy for np.log2\n",
        "\n",
        "# Read data from a CSV file\n",
        "df = pd.read_csv('Intrusion1.csv')\n",
        "\n",
        "# Encode categorical attributes to numerical values\n",
        "df_encoded = pd.get_dummies(df, columns=[\"Attack Type\", \"Firewall Status\", \"Malware Detected\"])\n",
        "\n",
        "# Separate features and target variable\n",
        "X = df_encoded.drop(columns=[\"Data Exfiltrated\"])\n",
        "y = df_encoded[\"Data Exfiltrated\"]\n",
        "\n",
        "# Create a Decision Tree Classifier\n",
        "clf = DecisionTreeClassifier(criterion=\"entropy\")\n",
        "\n",
        "# Fit the classifier on the data\n",
        "clf.fit(X, y)\n",
        "\n",
        "# Calculate the entropy of the target variable\n",
        "entropy = -sum([(sum(y == c) / len(y)) * np.log2(sum(y == c) / len(y)) for c in set(y)])\n",
        "\n",
        "# Calculate Information Gain for each attribute\n",
        "information_gain = {}\n",
        "for feature in X.columns:\n",
        "    split_entropy = 0\n",
        "    for value in set(X[feature]):\n",
        "        subset = y[X[feature] == value]\n",
        "        split_entropy += (len(subset) / len(y)) * -sum([(sum(subset == c) / len(subset)) * np.log2(sum(subset == c) / len(subset)) for c in set(subset)])\n",
        "    information_gain[feature] = entropy - split_entropy\n",
        "\n",
        "# Print entropy and information gain\n",
        "print(\"Entropy of Data Exfiltrated:\", entropy)\n",
        "print(\"Information Gain for each attribute:\",information_gain )\n",
        "for feature, gain in information_gain.items():\n",
        "    print(f\"{feature}: {gain}\")\n",
        "\n",
        "# Visualize the Decision Tree\n",
        "dot_data = export_graphviz(clf, out_file=None,\n",
        "                            feature_names=X.columns,\n",
        "                            class_names=[\"No\", \"Yes\"],  # Specify the class names correctly\n",
        "                            filled=True, rounded=True,\n",
        "                            special_characters=True)\n",
        "\n"
      ]
    },
    {
      "cell_type": "code",
      "execution_count": null,
      "metadata": {
        "colab": {
          "base_uri": "https://localhost:8080/"
        },
        "id": "ewuJQtJSfXDb",
        "outputId": "03b9df64-c107-45b7-a3af-c33f1efcfff6"
      },
      "outputs": [
        {
          "name": "stdout",
          "output_type": "stream",
          "text": [
            "Entropy of Data Exfiltrated: 0.9182958340544896\n",
            "Information Gain for each attribute: {'Attack Type_Malware': 0.0, 'Firewall Status_Blocked': 0.0, 'Malware Detected_Yes': 0.0}\n",
            "Attack Type_Malware: 0.0\n",
            "Firewall Status_Blocked: 0.0\n",
            "Malware Detected_Yes: 0.0\n"
          ]
        }
      ],
      "source": [
        "import pandas as pd\n",
        "from sklearn.tree import DecisionTreeClassifier, export_graphviz\n",
        "import graphviz\n",
        "import numpy as np  # Import numpy for np.log2\n",
        "\n",
        "# Read data from a CSV file\n",
        "df = pd.read_csv('Malware1.csv')\n",
        "\n",
        "# Encode categorical attributes to numerical values\n",
        "df_encoded = pd.get_dummies(df, columns=[\"Attack Type\", \"Firewall Status\", \"Malware Detected\"])\n",
        "\n",
        "# Separate features and target variable\n",
        "X = df_encoded.drop(columns=[\"Data Exfiltrated\"])\n",
        "y = df_encoded[\"Data Exfiltrated\"]\n",
        "\n",
        "# Create a Decision Tree Classifier\n",
        "clf = DecisionTreeClassifier(criterion=\"entropy\")\n",
        "\n",
        "# Fit the classifier on the data\n",
        "clf.fit(X, y)\n",
        "\n",
        "# Calculate the entropy of the target variable\n",
        "entropy = -sum([(sum(y == c) / len(y)) * np.log2(sum(y == c) / len(y)) for c in set(y)])\n",
        "\n",
        "# Calculate Information Gain for each attribute\n",
        "information_gain = {}\n",
        "for feature in X.columns:\n",
        "    split_entropy = 0\n",
        "    for value in set(X[feature]):\n",
        "        subset = y[X[feature] == value]\n",
        "        split_entropy += (len(subset) / len(y)) * -sum([(sum(subset == c) / len(subset)) * np.log2(sum(subset == c) / len(subset)) for c in set(subset)])\n",
        "    information_gain[feature] = entropy - split_entropy\n",
        "\n",
        "# Print entropy and information gain\n",
        "print(\"Entropy of Data Exfiltrated:\", entropy)\n",
        "print(\"Information Gain for each attribute:\",information_gain )\n",
        "for feature, gain in information_gain.items():\n",
        "    print(f\"{feature}: {gain}\")\n",
        "\n",
        "# Visualize the Decision Tree\n",
        "dot_data = export_graphviz(clf, out_file=None,\n",
        "                            feature_names=X.columns,\n",
        "                            class_names=[\"No\", \"Yes\"],  # Specify the class names correctly\n",
        "                            filled=True, rounded=True,\n",
        "                            special_characters=True)\n",
        "\n"
      ]
    },
    {
      "cell_type": "code",
      "execution_count": null,
      "metadata": {
        "colab": {
          "base_uri": "https://localhost:8080/"
        },
        "id": "4Vf5Oq12feJv",
        "outputId": "53280cb6-e8c7-41ce-9ab6-f6166b579030"
      },
      "outputs": [
        {
          "name": "stdout",
          "output_type": "stream",
          "text": [
            "Entropy of Data Exfiltrated: 0.9182958340544896\n",
            "Information Gain for each attribute: {'Attack Type_Phishing': 0.0, 'Firewall Status_Allowed': 0.0, 'Malware Detected_No': 0.0}\n",
            "Attack Type_Phishing: 0.0\n",
            "Firewall Status_Allowed: 0.0\n",
            "Malware Detected_No: 0.0\n"
          ]
        }
      ],
      "source": [
        "import pandas as pd\n",
        "from sklearn.tree import DecisionTreeClassifier, export_graphviz\n",
        "import graphviz\n",
        "import numpy as np  # Import numpy for np.log2\n",
        "\n",
        "# Read data from a CSV file\n",
        "df = pd.read_csv('Phishing1.csv')\n",
        "\n",
        "# Encode categorical attributes to numerical values\n",
        "df_encoded = pd.get_dummies(df, columns=[\"Attack Type\", \"Firewall Status\", \"Malware Detected\"])\n",
        "\n",
        "# Separate features and target variable\n",
        "X = df_encoded.drop(columns=[\"Data Exfiltrated\"])\n",
        "y = df_encoded[\"Data Exfiltrated\"]\n",
        "\n",
        "# Create a Decision Tree Classifier\n",
        "clf = DecisionTreeClassifier(criterion=\"entropy\")\n",
        "\n",
        "# Fit the classifier on the data\n",
        "clf.fit(X, y)\n",
        "\n",
        "# Calculate the entropy of the target variable\n",
        "entropy = -sum([(sum(y == c) / len(y)) * np.log2(sum(y == c) / len(y)) for c in set(y)])\n",
        "\n",
        "# Calculate Information Gain for each attribute\n",
        "information_gain = {}\n",
        "for feature in X.columns:\n",
        "    split_entropy = 0\n",
        "    for value in set(X[feature]):\n",
        "        subset = y[X[feature] == value]\n",
        "        split_entropy += (len(subset) / len(y)) * -sum([(sum(subset == c) / len(subset)) * np.log2(sum(subset == c) / len(subset)) for c in set(subset)])\n",
        "    information_gain[feature] = entropy - split_entropy\n",
        "\n",
        "# Print entropy and information gain\n",
        "print(\"Entropy of Data Exfiltrated:\", entropy)\n",
        "print(\"Information Gain for each attribute:\",information_gain )\n",
        "for feature, gain in information_gain.items():\n",
        "    print(f\"{feature}: {gain}\")\n",
        "\n",
        "# Visualize the Decision Tree\n",
        "dot_data = export_graphviz(clf, out_file=None,\n",
        "                            feature_names=X.columns,\n",
        "                            class_names=[\"No\", \"Yes\"],  # Specify the class names correctly\n",
        "                            filled=True, rounded=True,\n",
        "                            special_characters=True)\n",
        "\n"
      ]
    },
    {
      "cell_type": "code",
      "execution_count": 3,
      "metadata": {
        "colab": {
          "base_uri": "https://localhost:8080/"
        },
        "id": "N4jp5riy_ELR",
        "outputId": "04943e3c-6e29-43a1-9365-fa28f44f4f47"
      },
      "outputs": [
        {
          "output_type": "stream",
          "name": "stdout",
          "text": [
            "Entropy of Data Exfiltrated: 0.9182958340544896\n",
            "Information Gain for each attribute: {'Attack Type_Ransomware': 0.0, 'Firewall Status_Blocked': 0.0, 'Malware Detected_Yes': 0.0}\n",
            "Attack Type_Ransomware: 0.0\n",
            "Firewall Status_Blocked: 0.0\n",
            "Malware Detected_Yes: 0.0\n"
          ]
        }
      ],
      "source": [
        "import pandas as pd\n",
        "from sklearn.tree import DecisionTreeClassifier, export_graphviz\n",
        "import graphviz\n",
        "import numpy as np  # Import numpy for np.log2\n",
        "\n",
        "# Read data from a CSV file\n",
        "df = pd.read_csv('Ransomware1.csv')\n",
        "\n",
        "# Encode categorical attributes to numerical values\n",
        "df_encoded = pd.get_dummies(df, columns=[\"Attack Type\", \"Firewall Status\", \"Malware Detected\"])\n",
        "\n",
        "# Separate features and target variable\n",
        "X = df_encoded.drop(columns=[\"Data Exfiltrated\"])\n",
        "y = df_encoded[\"Data Exfiltrated\"]\n",
        "\n",
        "# Create a Decision Tree Classifier\n",
        "clf = DecisionTreeClassifier(criterion=\"entropy\")\n",
        "\n",
        "# Fit the classifier on the data\n",
        "clf.fit(X, y)\n",
        "\n",
        "# Calculate the entropy of the target variable\n",
        "entropy = -sum([(sum(y == c) / len(y)) * np.log2(sum(y == c) / len(y)) for c in set(y)])\n",
        "\n",
        "# Calculate Information Gain for each attribute\n",
        "information_gain = {}\n",
        "for feature in X.columns:\n",
        "    split_entropy = 0\n",
        "    for value in set(X[feature]):\n",
        "        subset = y[X[feature] == value]\n",
        "        split_entropy += (len(subset) / len(y)) * -sum([(sum(subset == c) / len(subset)) * np.log2(sum(subset == c) / len(subset)) for c in set(subset)])\n",
        "    information_gain[feature] = entropy - split_entropy\n",
        "\n",
        "# Print entropy and information gain\n",
        "print(\"Entropy of Data Exfiltrated:\", entropy)\n",
        "print(\"Information Gain for each attribute:\",information_gain )\n",
        "for feature, gain in information_gain.items():\n",
        "    print(f\"{feature}: {gain}\")\n",
        "\n",
        "# Visualize the Decision Tree\n",
        "dot_data = export_graphviz(clf, out_file=None,\n",
        "                            feature_names=X.columns,\n",
        "                            class_names=[\"No\", \"Yes\"],  # Specify the class names correctly\n",
        "                            filled=True, rounded=True,\n",
        "                            special_characters=True)\n",
        "\n"
      ]
    },
    {
      "cell_type": "code",
      "source": [
        "graph = graphviz.Source(dot_data)\n",
        "graph.render(\"decision_tree\")  # This will save the decision tree to a file named \"decision_tree.pdf\""
      ],
      "metadata": {
        "colab": {
          "base_uri": "https://localhost:8080/",
          "height": 35
        },
        "id": "TE50A7SP_mPE",
        "outputId": "63d0ccb0-f1ca-41c1-ffab-24736217426f"
      },
      "execution_count": 4,
      "outputs": [
        {
          "output_type": "execute_result",
          "data": {
            "text/plain": [
              "'decision_tree.pdf'"
            ],
            "application/vnd.google.colaboratory.intrinsic+json": {
              "type": "string"
            }
          },
          "metadata": {},
          "execution_count": 4
        }
      ]
    }
  ],
  "metadata": {
    "colab": {
      "provenance": [],
      "authorship_tag": "ABX9TyNoN2SUBC+gVMfipi4Gqyve",
      "include_colab_link": true
    },
    "kernelspec": {
      "display_name": "Python 3",
      "name": "python3"
    },
    "language_info": {
      "name": "python"
    }
  },
  "nbformat": 4,
  "nbformat_minor": 0
}