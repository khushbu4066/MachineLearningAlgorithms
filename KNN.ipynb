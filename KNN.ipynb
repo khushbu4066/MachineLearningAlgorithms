{
  "nbformat": 4,
  "nbformat_minor": 0,
  "metadata": {
    "colab": {
      "provenance": [],
      "authorship_tag": "ABX9TyOO17tJsCu0ScTJ629XsjrM",
      "include_colab_link": true
    },
    "kernelspec": {
      "name": "python3",
      "display_name": "Python 3"
    },
    "language_info": {
      "name": "python"
    }
  },
  "cells": [
    {
      "cell_type": "markdown",
      "metadata": {
        "id": "view-in-github",
        "colab_type": "text"
      },
      "source": [
        "<a href=\"https://colab.research.google.com/github/khushbu4066/MachineLearningAlgorithms/blob/main/KNN.ipynb\" target=\"_parent\"><img src=\"https://colab.research.google.com/assets/colab-badge.svg\" alt=\"Open In Colab\"/></a>"
      ]
    },
    {
      "cell_type": "code",
      "execution_count": null,
      "metadata": {
        "id": "7RxTc8Fc3n8f",
        "colab": {
          "base_uri": "https://localhost:8080/"
        },
        "outputId": "25ef9086-3cf2-45f7-b6de-7a686bbdde2f"
      },
      "outputs": [
        {
          "output_type": "stream",
          "name": "stdout",
          "text": [
            "Predicted class: Normal\n"
          ]
        }
      ],
      "source": [
        "#Python Code for K-Nearest neibour Problem\n",
        "\n",
        "import numpy as np\n",
        "from sklearn.neighbors import KNeighborsClassifier\n",
        "#dataset\n",
        "x_train= np.array([[0.3, 0.2, 0.7, 0.8],[0.5, 0.6, 0.4, 0.9],[0.6, 0.1, 0.8, 0.3], [0.2, 0.4, 0.5, 0.6]])\n",
        "y_train= np.array(['Normal', 'Normal', 'Normal', 'Anomaly'])\n",
        "\n",
        "#knn model\n",
        "k=3\n",
        "knn_model= KNeighborsClassifier(n_neighbors=k)\n",
        "\n",
        "#train model\n",
        "knn_model.fit(x_train, y_train)\n",
        "\n",
        "#new datapoint\n",
        "new_data_point= np.array([[0.9, 0.7, 0.3, 0.2]])\n",
        "\n",
        "#predict the class\n",
        "predicted_class= knn_model.predict(new_data_point)\n",
        "print(\"Predicted class:\", predicted_class[0])"
      ]
    }
  ]
}